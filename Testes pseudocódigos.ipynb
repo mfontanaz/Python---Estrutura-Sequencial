{
 "cells": [
  {
   "cell_type": "markdown",
   "id": "dbd839f2-9ec6-45b8-bb7e-1c88e35af563",
   "metadata": {},
   "source": [
    "LEIA nota1\n",
    "\n",
    "LEIA nota2\n",
    "\n",
    "CALCULE media = (nota1 + nota2) / 2\n",
    "\n",
    "ESCREVA \"A média do aluno é:\", media\n",
    "\n",
    "SE media >= 7.0 ENTÃO\n",
    "\n",
    "    ESCREVA \"Aluno Aprovado!\"\n",
    "\n",
    "SENÃO\n",
    "\n",
    "    ESCREVA \"Aluno Reprovado.\"\n"
   ]
  },
  {
   "cell_type": "code",
   "execution_count": 5,
   "id": "782155f8-0916-4aed-bf5b-baffeec0d9f3",
   "metadata": {},
   "outputs": [
    {
     "name": "stdout",
     "output_type": "stream",
     "text": [
      "A média do aluno é: 7.75\n",
      "Aluno Aprovado!\n"
     ]
    }
   ],
   "source": [
    "# Traduzindo o pseudocódigo para Python\n",
    "nota1 = 7.5\n",
    "nota2 = 8.0\n",
    "\n",
    "media = (nota1 + nota2) / 2\n",
    "\n",
    "print(f\"A média do aluno é: {media}\")\n",
    "\n",
    "if media >= 7.0:\n",
    "    print(\"Aluno Aprovado!\")\n",
    "else:\n",
    "    print(\"Aluno Reprovado.\")"
   ]
  },
  {
   "cell_type": "code",
   "execution_count": null,
   "id": "e055d3ef-0bd0-4af6-ba60-bfcd67909f9a",
   "metadata": {},
   "outputs": [],
   "source": []
  }
 ],
 "metadata": {
  "kernelspec": {
   "display_name": "Python 3 (ipykernel)",
   "language": "python",
   "name": "python3"
  },
  "language_info": {
   "codemirror_mode": {
    "name": "ipython",
    "version": 3
   },
   "file_extension": ".py",
   "mimetype": "text/x-python",
   "name": "python",
   "nbconvert_exporter": "python",
   "pygments_lexer": "ipython3",
   "version": "3.13.5"
  }
 },
 "nbformat": 4,
 "nbformat_minor": 5
}
